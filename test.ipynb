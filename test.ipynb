{
 "cells": [
  {
   "cell_type": "code",
   "execution_count": 1,
   "metadata": {},
   "outputs": [],
   "source": [
    "import win32com.client\n",
    "\n",
    "def print_word_document(file_path, printer_name=None):\n",
    "    word = win32com.client.Dispatch(\"Word.Application\")\n",
    "    word.Visible = False\n",
    "    doc = None  # Инициализируем doc как None для безопасной проверки в finally\n",
    "\n",
    "    try:\n",
    "        doc = word.Documents.Open(file_path)\n",
    "        if printer_name:\n",
    "            word.ActivePrinter = printer_name\n",
    "        doc.PrintOut()\n",
    "    except Exception as e:\n",
    "        print(f\"Произошла ошибка при печати документа: {e}\")\n",
    "    finally:\n",
    "        if doc is not None:  # Проверяем, был ли объект документа создан\n",
    "            doc.Close(SaveChanges=0)\n",
    "        word.Quit()\n",
    "\n",
    "file_path = \"C:\\\\Users\\\\Oleg.Atamanov\\\\Documents\\\\TAQA EQUIPMENT.docx\"\n",
    "print_word_document(file_path, printer_name=\"Microsoft Print to PDF\")"
   ]
  },
  {
   "cell_type": "code",
   "execution_count": 9,
   "metadata": {},
   "outputs": [],
   "source": [
    "import subprocess\n",
    "import pyautogui\n",
    "import time\n",
    "\n",
    "def print_from_subpump():\n",
    "    # Запуск приложения\n",
    "    subprocess.Popen(['C:\\\\IHS\\\\SubPUMP\\\\SubPump.exe'])\n",
    "    time.sleep(10)  # Даем время приложению полностью загрузиться\n",
    "\n",
    "    # Найти и активировать окно приложения (предположим, что у вас есть название окна)\n",
    "    pyautogui.getWindowsWithTitle('SubPump')[0].activate()\n",
    "    \n",
    "    # Имитация нажатий клавиш для открытия диалога печати\n",
    "    # Например, если горячая клавиша Ctrl+P\n",
    "    pyautogui.hotkey('ctrl', 'p')\n",
    "    time.sleep(2)  # Даем время на открытие диалога печати\n",
    "\n",
    "    # Имитация нажатия Enter для отправки задания на печать\n",
    "    pyautogui.press('enter')\n",
    "    time.sleep(2)  # Даем время на отправку задания на печать\n",
    "\n",
    "    # Закрытие приложения (если требуется)\n",
    "    pyautogui.hotkey('alt', 'f4')\n",
    "\n",
    "# Вызов функции\n",
    "print_from_subpump()"
   ]
  }
 ],
 "metadata": {
  "kernelspec": {
   "display_name": "Python 3",
   "language": "python",
   "name": "python3"
  },
  "language_info": {
   "codemirror_mode": {
    "name": "ipython",
    "version": 3
   },
   "file_extension": ".py",
   "mimetype": "text/x-python",
   "name": "python",
   "nbconvert_exporter": "python",
   "pygments_lexer": "ipython3",
   "version": "3.9.10"
  }
 },
 "nbformat": 4,
 "nbformat_minor": 2
}
