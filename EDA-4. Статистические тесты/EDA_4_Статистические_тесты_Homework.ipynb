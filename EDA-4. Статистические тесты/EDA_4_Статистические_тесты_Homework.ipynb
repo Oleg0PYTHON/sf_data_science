{
  "cells": [
    {
      "cell_type": "markdown",
      "metadata": {
        "id": "yMG_XPwziMUN"
      },
      "source": [
        "# <center> Практика. Статистические тесты в контексте EDA"
      ]
    },
    {
      "cell_type": "markdown",
      "metadata": {
        "id": "EMd2vwh8ihnl"
      },
      "source": [
        "## Постановка задачи\n",
        "\n",
        "HR-агентство изучает тренды на рынке труда в IT. Компания хочет провести исследование на основе данных о зарплатах в сфере Data Science за 2020–2022 годы и получить некоторые выводы.\n",
        "\n",
        "Исследуйте данные и сделайте выводы по полученным результатам. Подкрепите свои рассуждения и выводы визуализациями и с помощью статистического тестирования проверьте, являются ли выводы статистически значимыми.\n",
        "\n",
        "В процессе своего анализа вы должны:\n",
        "\n",
        "1. Выяснить, какие факторы влияют на зарплату специалиста Data Scientist.\n",
        "2. А также ответить на ключевые вопросы HR-агентства:\n",
        "- Наблюдается ли ежегодный рост зарплат у специалистов Data Scientist?\n",
        "- Как соотносятся зарплаты Data Scientist и Data Engineer в 2022 году?\n",
        "- Как соотносятся зарплаты специалистов Data Scientist в компаниях различных размеров?\n",
        "- Есть ли связь между наличием должностей Data Scientist и Data Engineer и размером компании?\n",
        "Если вы найдёте в данных интересные закономерности, также отметьте их в своём анализе.\n",
        "\n",
        "Продемонстрируйте использование разных тестов для проверки статистической значимости сделанных выводов:\n",
        "\n",
        "1. тесты для количественного признака:\n",
        "- для одной выборки;\n",
        "- для двух выборок;\n",
        "- для нескольких выборок;\n",
        "2. тест для категориальных признаков.\n",
        "\n",
        "На каждый вопрос необходимо ответить с уровнем значимости $\\alpha=0.05$."
      ]
    },
    {
      "cell_type": "markdown",
      "metadata": {
        "id": "xqjB2nBnNNkc"
      },
      "source": [
        "Ответить на эти вопросы нам помогут данные о зарплатах в сфере Data Science за 2020–2022 годы.\n",
        "\n",
        "Данные содержат следующие столбцы:\n",
        "*   *work_year* — Год, в котором была выплачена зарплата.\n",
        "*   *work_year* — Опыт работы на этой должности в течение года.\n",
        "*   *employment_type* — Тип трудоустройства для этой роли.\n",
        "*   *job_title* — Роль, в которой соискатель работал в течение года.\n",
        "*   *salary* — Общая выплаченная валовая сумма заработной платы.\n",
        "*   *salary_currency* — Валюта выплачиваемой заработной платы в виде кода валюты ISO 4217.\n",
        "*   *salary_in_usd* — Зарплата в долларах США (валютный курс, делённый на среднее значение курса доллара США за соответствующий год через fxdata.foorilla.com).\n",
        "*   *employee_residence* — Основная страна проживания сотрудника в течение рабочего года в виде кода страны ISO 3166.\n",
        "*   *remote_ratio* — Общий объём работы, выполняемой удалённо\n",
        "*   *company_location* — Страна главного офиса работодателя или филиала по контракту в виде кода страны ISO 3166.\n",
        "*   *company_size* — Среднее количество людей, работавших в компании в течение года.\n",
        "\n",
        "Источник датасета: [“Data Science Job Salaries” (kaggle.com)](https://www.kaggle.com/datasets/ruchi798/data-science-job-salaries)"
      ]
    },
    {
      "cell_type": "markdown",
      "metadata": {
        "id": "_XMyOg3cgcN1"
      },
      "source": [
        "## Загрузка данных"
      ]
    },
    {
      "cell_type": "code",
      "execution_count": 2,
      "metadata": {
        "id": "2JjaPf35gyCK"
      },
      "outputs": [],
      "source": [
        "# загружаем необходимые библиотеки\n",
        "import pandas as pd\n",
        "import numpy as np\n",
        "\n",
        "from scipy import stats\n",
        "import statsmodels.api as sm\n",
        "from statsmodels import stats as sms\n",
        "\n",
        "import matplotlib.pyplot as plt\n",
        "import seaborn as sns\n",
        "\n",
        "# делаем визуальную настройку графиков\n",
        "sns.set_theme(\"notebook\") \n",
        "sns.set_palette(\"Set2\") "
      ]
    },
    {
      "cell_type": "markdown",
      "metadata": {
        "id": "OxICgu53sO5Q"
      },
      "source": [
        "Данные были скопированы в Google Drive, они доступны по [ссылке](https://drive.google.com/file/d/1PFbQOYwc76B1C7kqeHCHhGM1LlsYZYQv/view?usp=sharing).\n",
        "\n",
        "Для скачивания данных используйте команду `!wget`.\n",
        "\n",
        "Данные появятся в локальной директории."
      ]
    },
    {
      "cell_type": "code",
      "execution_count": 3,
      "metadata": {
        "colab": {
          "base_uri": "https://localhost:8080/"
        },
        "id": "-Op6Oy7hf5ZM",
        "outputId": "9ea91bf5-b019-43e3-aaf4-94408a78c63f"
      },
      "outputs": [
        {
          "name": "stderr",
          "output_type": "stream",
          "text": [
            "'wget' is not recognized as an internal or external command,\n",
            "operable program or batch file.\n"
          ]
        }
      ],
      "source": [
        "# скачиваем датасет \n",
        "\n",
        "# в ссылке указан id файла на Google Drive \"1b_NEk_nrBLhYxBo-DI-TVLRsTIOYvk-r\", id файла взят из ссылки на файл https://drive.google.com/file/d/1b_NEk_nrBLhYxBo-DI-TVLRsTIOYvk-r/view\n",
        "!wget \"https://drive.google.com/file/d/1PFbQOYwc76B1C7kqeHCHhGM1LlsYZYQv/view?usp=sharing\" -O ds_salaries.csv"
      ]
    },
    {
      "cell_type": "code",
      "execution_count": 4,
      "metadata": {
        "colab": {
          "base_uri": "https://localhost:8080/",
          "height": 206
        },
        "id": "ZPiI902dv11F",
        "outputId": "eccef1b9-a3cc-4144-a9df-a2a020abf30c"
      },
      "outputs": [
        {
          "data": {
            "text/html": [
              "<div>\n",
              "<style scoped>\n",
              "    .dataframe tbody tr th:only-of-type {\n",
              "        vertical-align: middle;\n",
              "    }\n",
              "\n",
              "    .dataframe tbody tr th {\n",
              "        vertical-align: top;\n",
              "    }\n",
              "\n",
              "    .dataframe thead th {\n",
              "        text-align: right;\n",
              "    }\n",
              "</style>\n",
              "<table border=\"1\" class=\"dataframe\">\n",
              "  <thead>\n",
              "    <tr style=\"text-align: right;\">\n",
              "      <th></th>\n",
              "      <th>work_year</th>\n",
              "      <th>experience_level</th>\n",
              "      <th>employment_type</th>\n",
              "      <th>job_title</th>\n",
              "      <th>salary</th>\n",
              "      <th>salary_currency</th>\n",
              "      <th>salary_in_usd</th>\n",
              "      <th>employee_residence</th>\n",
              "      <th>remote_ratio</th>\n",
              "      <th>company_location</th>\n",
              "      <th>company_size</th>\n",
              "    </tr>\n",
              "  </thead>\n",
              "  <tbody>\n",
              "    <tr>\n",
              "      <th>0</th>\n",
              "      <td>2020</td>\n",
              "      <td>MI</td>\n",
              "      <td>FT</td>\n",
              "      <td>Data Scientist</td>\n",
              "      <td>70000</td>\n",
              "      <td>EUR</td>\n",
              "      <td>79833</td>\n",
              "      <td>DE</td>\n",
              "      <td>0</td>\n",
              "      <td>DE</td>\n",
              "      <td>L</td>\n",
              "    </tr>\n",
              "    <tr>\n",
              "      <th>1</th>\n",
              "      <td>2020</td>\n",
              "      <td>SE</td>\n",
              "      <td>FT</td>\n",
              "      <td>Machine Learning Scientist</td>\n",
              "      <td>260000</td>\n",
              "      <td>USD</td>\n",
              "      <td>260000</td>\n",
              "      <td>JP</td>\n",
              "      <td>0</td>\n",
              "      <td>JP</td>\n",
              "      <td>S</td>\n",
              "    </tr>\n",
              "    <tr>\n",
              "      <th>2</th>\n",
              "      <td>2020</td>\n",
              "      <td>SE</td>\n",
              "      <td>FT</td>\n",
              "      <td>Big Data Engineer</td>\n",
              "      <td>85000</td>\n",
              "      <td>GBP</td>\n",
              "      <td>109024</td>\n",
              "      <td>GB</td>\n",
              "      <td>50</td>\n",
              "      <td>GB</td>\n",
              "      <td>M</td>\n",
              "    </tr>\n",
              "    <tr>\n",
              "      <th>3</th>\n",
              "      <td>2020</td>\n",
              "      <td>MI</td>\n",
              "      <td>FT</td>\n",
              "      <td>Product Data Analyst</td>\n",
              "      <td>20000</td>\n",
              "      <td>USD</td>\n",
              "      <td>20000</td>\n",
              "      <td>HN</td>\n",
              "      <td>0</td>\n",
              "      <td>HN</td>\n",
              "      <td>S</td>\n",
              "    </tr>\n",
              "    <tr>\n",
              "      <th>4</th>\n",
              "      <td>2020</td>\n",
              "      <td>SE</td>\n",
              "      <td>FT</td>\n",
              "      <td>Machine Learning Engineer</td>\n",
              "      <td>150000</td>\n",
              "      <td>USD</td>\n",
              "      <td>150000</td>\n",
              "      <td>US</td>\n",
              "      <td>50</td>\n",
              "      <td>US</td>\n",
              "      <td>L</td>\n",
              "    </tr>\n",
              "  </tbody>\n",
              "</table>\n",
              "</div>"
            ],
            "text/plain": [
              "   work_year experience_level employment_type                   job_title  \\\n",
              "0       2020               MI              FT              Data Scientist   \n",
              "1       2020               SE              FT  Machine Learning Scientist   \n",
              "2       2020               SE              FT           Big Data Engineer   \n",
              "3       2020               MI              FT        Product Data Analyst   \n",
              "4       2020               SE              FT   Machine Learning Engineer   \n",
              "\n",
              "   salary salary_currency  salary_in_usd employee_residence  remote_ratio  \\\n",
              "0   70000             EUR          79833                 DE             0   \n",
              "1  260000             USD         260000                 JP             0   \n",
              "2   85000             GBP         109024                 GB            50   \n",
              "3   20000             USD          20000                 HN             0   \n",
              "4  150000             USD         150000                 US            50   \n",
              "\n",
              "  company_location company_size  \n",
              "0               DE            L  \n",
              "1               JP            S  \n",
              "2               GB            M  \n",
              "3               HN            S  \n",
              "4               US            L  "
            ]
          },
          "execution_count": 4,
          "metadata": {},
          "output_type": "execute_result"
        }
      ],
      "source": [
        "# загружаем датасет\n",
        "data = pd.read_csv('data/ds_salaries.csv', index_col=[0])\n",
        "data.head()"
      ]
    },
    {
      "cell_type": "code",
      "execution_count": 5,
      "metadata": {
        "colab": {
          "base_uri": "https://localhost:8080/"
        },
        "id": "uLEEV6aLomOU",
        "outputId": "23314b21-aa3f-4537-94cb-be776d9427ae"
      },
      "outputs": [
        {
          "name": "stdout",
          "output_type": "stream",
          "text": [
            "Уровень значимости alpha = 0.05\n"
          ]
        }
      ],
      "source": [
        "# задаём уровень значимости\n",
        "alpha = 0.05 \n",
        "print(\"Уровень значимости alpha = {:.2f}\".format(alpha))"
      ]
    },
    {
      "cell_type": "markdown",
      "metadata": {
        "id": "c9QRWWOVfV13"
      },
      "source": [
        "## Описательный анализ данных"
      ]
    },
    {
      "cell_type": "code",
      "execution_count": 6,
      "metadata": {
        "colab": {
          "base_uri": "https://localhost:8080/"
        },
        "id": "zkiOmlAy2XQU",
        "outputId": "88adbac3-0fd7-460c-a368-c40baff97200"
      },
      "outputs": [
        {
          "name": "stdout",
          "output_type": "stream",
          "text": [
            "<class 'pandas.core.frame.DataFrame'>\n",
            "Index: 607 entries, 0 to 606\n",
            "Data columns (total 11 columns):\n",
            " #   Column              Non-Null Count  Dtype \n",
            "---  ------              --------------  ----- \n",
            " 0   work_year           607 non-null    int64 \n",
            " 1   experience_level    607 non-null    object\n",
            " 2   employment_type     607 non-null    object\n",
            " 3   job_title           607 non-null    object\n",
            " 4   salary              607 non-null    int64 \n",
            " 5   salary_currency     607 non-null    object\n",
            " 6   salary_in_usd       607 non-null    int64 \n",
            " 7   employee_residence  607 non-null    object\n",
            " 8   remote_ratio        607 non-null    int64 \n",
            " 9   company_location    607 non-null    object\n",
            " 10  company_size        607 non-null    object\n",
            "dtypes: int64(4), object(7)\n",
            "memory usage: 56.9+ KB\n"
          ]
        }
      ],
      "source": [
        "data.info()"
      ]
    },
    {
      "cell_type": "markdown",
      "metadata": {
        "id": "2DSvnZuul7Za"
      },
      "source": [
        "В датасете 607 записей (без пропущенных значений)."
      ]
    },
    {
      "cell_type": "code",
      "execution_count": 7,
      "metadata": {},
      "outputs": [
        {
          "data": {
            "text/html": [
              "<div>\n",
              "<style scoped>\n",
              "    .dataframe tbody tr th:only-of-type {\n",
              "        vertical-align: middle;\n",
              "    }\n",
              "\n",
              "    .dataframe tbody tr th {\n",
              "        vertical-align: top;\n",
              "    }\n",
              "\n",
              "    .dataframe thead th {\n",
              "        text-align: right;\n",
              "    }\n",
              "</style>\n",
              "<table border=\"1\" class=\"dataframe\">\n",
              "  <thead>\n",
              "    <tr style=\"text-align: right;\">\n",
              "      <th></th>\n",
              "      <th>work_year</th>\n",
              "      <th>salary</th>\n",
              "      <th>salary_in_usd</th>\n",
              "      <th>remote_ratio</th>\n",
              "    </tr>\n",
              "  </thead>\n",
              "  <tbody>\n",
              "    <tr>\n",
              "      <th>count</th>\n",
              "      <td>607.000000</td>\n",
              "      <td>6.070000e+02</td>\n",
              "      <td>607.000000</td>\n",
              "      <td>607.00000</td>\n",
              "    </tr>\n",
              "    <tr>\n",
              "      <th>mean</th>\n",
              "      <td>2021.405272</td>\n",
              "      <td>3.240001e+05</td>\n",
              "      <td>112297.869852</td>\n",
              "      <td>70.92257</td>\n",
              "    </tr>\n",
              "    <tr>\n",
              "      <th>std</th>\n",
              "      <td>0.692133</td>\n",
              "      <td>1.544357e+06</td>\n",
              "      <td>70957.259411</td>\n",
              "      <td>40.70913</td>\n",
              "    </tr>\n",
              "    <tr>\n",
              "      <th>min</th>\n",
              "      <td>2020.000000</td>\n",
              "      <td>4.000000e+03</td>\n",
              "      <td>2859.000000</td>\n",
              "      <td>0.00000</td>\n",
              "    </tr>\n",
              "    <tr>\n",
              "      <th>25%</th>\n",
              "      <td>2021.000000</td>\n",
              "      <td>7.000000e+04</td>\n",
              "      <td>62726.000000</td>\n",
              "      <td>50.00000</td>\n",
              "    </tr>\n",
              "    <tr>\n",
              "      <th>50%</th>\n",
              "      <td>2022.000000</td>\n",
              "      <td>1.150000e+05</td>\n",
              "      <td>101570.000000</td>\n",
              "      <td>100.00000</td>\n",
              "    </tr>\n",
              "    <tr>\n",
              "      <th>75%</th>\n",
              "      <td>2022.000000</td>\n",
              "      <td>1.650000e+05</td>\n",
              "      <td>150000.000000</td>\n",
              "      <td>100.00000</td>\n",
              "    </tr>\n",
              "    <tr>\n",
              "      <th>max</th>\n",
              "      <td>2022.000000</td>\n",
              "      <td>3.040000e+07</td>\n",
              "      <td>600000.000000</td>\n",
              "      <td>100.00000</td>\n",
              "    </tr>\n",
              "  </tbody>\n",
              "</table>\n",
              "</div>"
            ],
            "text/plain": [
              "         work_year        salary  salary_in_usd  remote_ratio\n",
              "count   607.000000  6.070000e+02     607.000000     607.00000\n",
              "mean   2021.405272  3.240001e+05  112297.869852      70.92257\n",
              "std       0.692133  1.544357e+06   70957.259411      40.70913\n",
              "min    2020.000000  4.000000e+03    2859.000000       0.00000\n",
              "25%    2021.000000  7.000000e+04   62726.000000      50.00000\n",
              "50%    2022.000000  1.150000e+05  101570.000000     100.00000\n",
              "75%    2022.000000  1.650000e+05  150000.000000     100.00000\n",
              "max    2022.000000  3.040000e+07  600000.000000     100.00000"
            ]
          },
          "execution_count": 7,
          "metadata": {},
          "output_type": "execute_result"
        }
      ],
      "source": [
        "# описание числовых признаков\n",
        "data.describe()"
      ]
    },
    {
      "cell_type": "code",
      "execution_count": 8,
      "metadata": {},
      "outputs": [
        {
          "data": {
            "text/html": [
              "<div>\n",
              "<style scoped>\n",
              "    .dataframe tbody tr th:only-of-type {\n",
              "        vertical-align: middle;\n",
              "    }\n",
              "\n",
              "    .dataframe tbody tr th {\n",
              "        vertical-align: top;\n",
              "    }\n",
              "\n",
              "    .dataframe thead th {\n",
              "        text-align: right;\n",
              "    }\n",
              "</style>\n",
              "<table border=\"1\" class=\"dataframe\">\n",
              "  <thead>\n",
              "    <tr style=\"text-align: right;\">\n",
              "      <th></th>\n",
              "      <th>experience_level</th>\n",
              "      <th>employment_type</th>\n",
              "      <th>job_title</th>\n",
              "      <th>salary_currency</th>\n",
              "      <th>employee_residence</th>\n",
              "      <th>company_location</th>\n",
              "      <th>company_size</th>\n",
              "    </tr>\n",
              "  </thead>\n",
              "  <tbody>\n",
              "    <tr>\n",
              "      <th>count</th>\n",
              "      <td>607</td>\n",
              "      <td>607</td>\n",
              "      <td>607</td>\n",
              "      <td>607</td>\n",
              "      <td>607</td>\n",
              "      <td>607</td>\n",
              "      <td>607</td>\n",
              "    </tr>\n",
              "    <tr>\n",
              "      <th>unique</th>\n",
              "      <td>4</td>\n",
              "      <td>4</td>\n",
              "      <td>50</td>\n",
              "      <td>17</td>\n",
              "      <td>57</td>\n",
              "      <td>50</td>\n",
              "      <td>3</td>\n",
              "    </tr>\n",
              "    <tr>\n",
              "      <th>top</th>\n",
              "      <td>SE</td>\n",
              "      <td>FT</td>\n",
              "      <td>Data Scientist</td>\n",
              "      <td>USD</td>\n",
              "      <td>US</td>\n",
              "      <td>US</td>\n",
              "      <td>M</td>\n",
              "    </tr>\n",
              "    <tr>\n",
              "      <th>freq</th>\n",
              "      <td>280</td>\n",
              "      <td>588</td>\n",
              "      <td>143</td>\n",
              "      <td>398</td>\n",
              "      <td>332</td>\n",
              "      <td>355</td>\n",
              "      <td>326</td>\n",
              "    </tr>\n",
              "  </tbody>\n",
              "</table>\n",
              "</div>"
            ],
            "text/plain": [
              "       experience_level employment_type       job_title salary_currency  \\\n",
              "count               607             607             607             607   \n",
              "unique                4               4              50              17   \n",
              "top                  SE              FT  Data Scientist             USD   \n",
              "freq                280             588             143             398   \n",
              "\n",
              "       employee_residence company_location company_size  \n",
              "count                 607              607          607  \n",
              "unique                 57               50            3  \n",
              "top                    US               US            M  \n",
              "freq                  332              355          326  "
            ]
          },
          "execution_count": 8,
          "metadata": {},
          "output_type": "execute_result"
        }
      ],
      "source": [
        "# описание категориальных признаков\n",
        "data.describe(include='object')"
      ]
    },
    {
      "cell_type": "markdown",
      "metadata": {
        "id": "Xug87trzl7Za"
      },
      "source": [
        "Проверим данные на наличие полных дубликатов:"
      ]
    },
    {
      "cell_type": "code",
      "execution_count": 39,
      "metadata": {
        "colab": {
          "base_uri": "https://localhost:8080/"
        },
        "id": "As_X7I6jl7Za",
        "outputId": "3d3795b3-ab7c-4cc6-ab3d-23a4796a7b5c"
      },
      "outputs": [
        {
          "name": "stdout",
          "output_type": "stream",
          "text": [
            "Количество дубликатов: 42\n",
            "Размер таблицы после удаления дубликатов: (565, 11)\n"
          ]
        }
      ],
      "source": [
        "print('Количество дубликатов: {}'.format(data[data.duplicated()].shape[0]))\n",
        "\n",
        "# Удаляем дубликаты:\n",
        "data = data.drop_duplicates()\n",
        "print('Размер таблицы после удаления дубликатов: {}'.format(data.shape))"
      ]
    },
    {
      "cell_type": "code",
      "execution_count": 10,
      "metadata": {},
      "outputs": [
        {
          "data": {
            "text/plain": [
              "<Axes: >"
            ]
          },
          "execution_count": 10,
          "metadata": {},
          "output_type": "execute_result"
        },
        {
          "data": {
            "image/png": "[encoded data removed]",
            "text/plain": [
              "<Figure size 2500x1000 with 2 Axes>"
            ]
          },
          "metadata": {},
          "output_type": "display_data"
        }
      ],
      "source": [
        "## ТЕПЛОВАЯ МАТРИЦА КОРРЕЛЯЦИЙ\n",
        "fig, ax = plt.subplots(figsize=(25,10))\n",
        "sns.heatmap(data.corr(numeric_only=True), annot=True, linewidths=.5, ax=ax)"
      ]
    },
    {
      "cell_type": "markdown",
      "metadata": {},
      "source": [
        "Числовые признаки с очень сильной корреляцией (где коэффициент корреляции +/-0.7 и выше) не обнаружены"
      ]
    },
    {
      "cell_type": "markdown",
      "metadata": {},
      "source": [
        "## Вывод по описательному анализу:\n",
        "1. В датасете 607 записей (без пропущенных значений).\n",
        "2. Количество дубликатов: 0\n",
        "3. Числовые признаки:\n",
        "- work_year — Год, в котором была выплачена зарплата.\n",
        "- salary — Общая выплаченная валовая сумма заработной платы.\n",
        "- salary_in_usd — Зарплата в долларах США (валютный курс, делённый на среднее значение курса доллара США за соответствующий год через fxdata.foorilla.com).\n",
        "- remote_ratio — Общий объём работы, выполняемой удалённо (0, 50, 100).\n",
        "\n",
        "Категориальные признаки:\n",
        "- experience_level — Опыт работы на этой должности в течение года (EN, MI, SE, EX).\n",
        "- nemployment_type — Тип трудоустройства для этой роли (PT, FT, CT, FL).\n",
        "- job_title — Роль, в которой соискатель работал в течение года.\n",
        "- salary_currency — Валюта выплачиваемой заработной платы в виде кода валюты ISO 4217.\n",
        "- employee_residence — Основная страна проживания сотрудника в течение рабочего года в виде кода страны ISO 3166.\n",
        "- company_location — Страна главного офиса работодателя или филиала по контракту в виде кода страны ISO 3166.\n",
        "- company_size — Среднее количество людей, работавших в компании в течение года (S, M, L).\n",
        "4. Числовые признаки с очень сильной корреляцией (где коэффициент корреляции +/-0.7 и выше) не обнаружены\n",
        "5. Для дальнейшего анализа возьмем признак salary_in_usd, тогда признаки salary и salary_currency примем неинформативными"
      ]
    },
    {
      "cell_type": "markdown",
      "metadata": {
        "id": "6uAbyderTaNx"
      },
      "source": [
        "### Распределение годовых зарплат по всем сотрудникам"
      ]
    },
    {
      "cell_type": "code",
      "execution_count": 11,
      "metadata": {
        "colab": {
          "base_uri": "https://localhost:8080/",
          "height": 496
        },
        "id": "KX6k6B2NWJ8t",
        "outputId": "523d571d-679e-4926-fe74-dc130c6a1b53"
      },
      "outputs": [
        {
          "data": {
            "image/png": "[encoded data removed]",
            "text/plain": [
              "<Figure size 1500x500 with 2 Axes>"
            ]
          },
          "metadata": {},
          "output_type": "display_data"
        }
      ],
      "source": [
        "fig, axes = plt.subplots(1, 2, figsize=(15, 5))\n",
        "\n",
        "sns.histplot(data['salary_in_usd'], kde=True, ax=axes[0])\n",
        "axes[0].set(xlabel='Размер годовых зарплат в долларах', ylabel='Частота')\n",
        "axes[0].set_title('Распределение годовых зарплат по всем сотрудникам')\n",
        "axes[0].axvline(data['salary_in_usd'].mean(), color='red', linestyle='--', linewidth=0.8)\n",
        "\n",
        "sns.boxplot(data['salary_in_usd'], ax=axes[1], orient='h', medianprops={\"color\": \"red\", \"linestyle\": '--'})\n",
        "axes[1].set(xlabel='Размер годовых зарплат в долларах')\n",
        "axes[1].set_title('Распределение годовых зарплат по всем сотрудникам')\n",
        "\n",
        "plt.show()"
      ]
    },
    {
      "cell_type": "code",
      "execution_count": 12,
      "metadata": {
        "colab": {
          "base_uri": "https://localhost:8080/",
          "height": 300
        },
        "id": "h4rqfECm4umv",
        "outputId": "3edbc181-1016-488d-ef8c-6dfc5dbbfee1"
      },
      "outputs": [
        {
          "data": {
            "text/html": [
              "<div>\n",
              "<style scoped>\n",
              "    .dataframe tbody tr th:only-of-type {\n",
              "        vertical-align: middle;\n",
              "    }\n",
              "\n",
              "    .dataframe tbody tr th {\n",
              "        vertical-align: top;\n",
              "    }\n",
              "\n",
              "    .dataframe thead th {\n",
              "        text-align: right;\n",
              "    }\n",
              "</style>\n",
              "<table border=\"1\" class=\"dataframe\">\n",
              "  <thead>\n",
              "    <tr style=\"text-align: right;\">\n",
              "      <th></th>\n",
              "      <th>Размер годовых зарплат в долларах</th>\n",
              "    </tr>\n",
              "  </thead>\n",
              "  <tbody>\n",
              "    <tr>\n",
              "      <th>count</th>\n",
              "      <td>607.00</td>\n",
              "    </tr>\n",
              "    <tr>\n",
              "      <th>mean</th>\n",
              "      <td>112297.87</td>\n",
              "    </tr>\n",
              "    <tr>\n",
              "      <th>std</th>\n",
              "      <td>70957.26</td>\n",
              "    </tr>\n",
              "    <tr>\n",
              "      <th>min</th>\n",
              "      <td>2859.00</td>\n",
              "    </tr>\n",
              "    <tr>\n",
              "      <th>25%</th>\n",
              "      <td>62726.00</td>\n",
              "    </tr>\n",
              "    <tr>\n",
              "      <th>50%</th>\n",
              "      <td>101570.00</td>\n",
              "    </tr>\n",
              "    <tr>\n",
              "      <th>75%</th>\n",
              "      <td>150000.00</td>\n",
              "    </tr>\n",
              "    <tr>\n",
              "      <th>max</th>\n",
              "      <td>600000.00</td>\n",
              "    </tr>\n",
              "  </tbody>\n",
              "</table>\n",
              "</div>"
            ],
            "text/plain": [
              "       Размер годовых зарплат в долларах\n",
              "count                             607.00\n",
              "mean                           112297.87\n",
              "std                             70957.26\n",
              "min                              2859.00\n",
              "25%                             62726.00\n",
              "50%                            101570.00\n",
              "75%                            150000.00\n",
              "max                            600000.00"
            ]
          },
          "execution_count": 12,
          "metadata": {},
          "output_type": "execute_result"
        }
      ],
      "source": [
        "data_agg = data['salary_in_usd'].describe().round(2).to_frame()\n",
        "data_agg.columns = ['Размер годовых зарплат в долларах']\n",
        "data_agg"
      ]
    },
    {
      "cell_type": "markdown",
      "metadata": {
        "id": "fHrGH7w56m5c"
      },
      "source": [
        "Распределение годовых зарплат отлично от нормального, имеются выбросы."
      ]
    },
    {
      "cell_type": "markdown",
      "metadata": {
        "id": "cFABAmBjTkCo"
      },
      "source": [
        "### Наблюдается ли ежегодный рост зарплат у специалистов Data Scientist? (В этом случае за DS принимаем все должности)"
      ]
    },
    {
      "cell_type": "code",
      "execution_count": 13,
      "metadata": {
        "colab": {
          "base_uri": "https://localhost:8080/",
          "height": 480
        },
        "id": "a06HKS1bwzsS",
        "outputId": "e4aa3e1a-71d3-4df3-8857-3f9f4342fa18"
      },
      "outputs": [
        {
          "data": {
            "image/png": "[encoded data removed]",
            "text/plain": [
              "<Figure size 1000x600 with 1 Axes>"
            ]
          },
          "metadata": {},
          "output_type": "display_data"
        }
      ],
      "source": [
        "# Рассчитаем медианную зарплату для каждого года\n",
        "average_salary_per_year = data.groupby('work_year')['salary_in_usd'].median().reset_index()\n",
        "\n",
        "# Построим график\n",
        "plt.figure(figsize=(10, 6))\n",
        "sns.lineplot(x='work_year', y='salary_in_usd', data=average_salary_per_year, marker='o')\n",
        "plt.title('Динамика медианной ежегодной зарплаты у специалистов Data Scientist')\n",
        "plt.xlabel('Год')\n",
        "plt.ylabel('Медианная годовая зарплата в долларах')\n",
        "plt.grid(True)\n",
        "plt.show()\n"
      ]
    },
    {
      "cell_type": "markdown",
      "metadata": {
        "id": "QnoG6XTK_fOH"
      },
      "source": [
        "На первый взгляд наблюдается ежегодный рост зарплат. Чтобы определить, являются ли это статистически значимым, в следующем разделе мы проведём статистическое тестирование."
      ]
    },
    {
      "cell_type": "markdown",
      "metadata": {
        "id": "crI7PFP0TpDI"
      },
      "source": [
        "### Как соотносятся зарплаты Data Scientist и Data Engineer в 2022 году? (В этом случае отфильтруем должности DS и DE)"
      ]
    },
    {
      "cell_type": "code",
      "execution_count": 14,
      "metadata": {
        "colab": {
          "base_uri": "https://localhost:8080/",
          "height": 480
        },
        "id": "SkPmlfj7S9BL",
        "outputId": "00283144-aa01-43c9-9ee4-b0a38efc3f84"
      },
      "outputs": [
        {
          "data": {
            "image/png": "[encoded data removed]",
            "text/plain": [
              "<Figure size 1200x800 with 1 Axes>"
            ]
          },
          "metadata": {},
          "output_type": "display_data"
        }
      ],
      "source": [
        "# Фильтрация данных для 2022 года и Data Scientist и Data Engineer\n",
        "filtered_data = data[(data['work_year'] == 2022) & \n",
        "                     ((data['job_title'] == 'Data Scientist') | \n",
        "                      (data['job_title'] == 'Data Engineer'))]\n",
        "\n",
        "\n",
        "# Построение boxplot\n",
        "plt.figure(figsize=(12, 8))\n",
        "sns.boxplot(filtered_data, x='salary_in_usd', y='job_title', orient='h', medianprops={\"color\": \"red\", \"linestyle\": '--'})\n",
        "plt.title('Распределение зарплат Data Scientist и Data Engineer в 2022 году')\n",
        "plt.xlabel('Зарплата')\n",
        "plt.ylabel('Вид деятельности')\n",
        "plt.grid(True)\n",
        "plt.show()"
      ]
    },
    {
      "cell_type": "code",
      "execution_count": 15,
      "metadata": {
        "colab": {
          "base_uri": "https://localhost:8080/",
          "height": 161
        },
        "id": "yeXQdZzQS9BL",
        "outputId": "452b6af6-f003-4332-8d79-cffcaa4f8fb8"
      },
      "outputs": [
        {
          "name": "stdout",
          "output_type": "stream",
          "text": [
            "Зарплаты в зависимости от вида деятельности\n"
          ]
        },
        {
          "data": {
            "text/html": [
              "<div>\n",
              "<style scoped>\n",
              "    .dataframe tbody tr th:only-of-type {\n",
              "        vertical-align: middle;\n",
              "    }\n",
              "\n",
              "    .dataframe tbody tr th {\n",
              "        vertical-align: top;\n",
              "    }\n",
              "\n",
              "    .dataframe thead th {\n",
              "        text-align: right;\n",
              "    }\n",
              "</style>\n",
              "<table border=\"1\" class=\"dataframe\">\n",
              "  <thead>\n",
              "    <tr style=\"text-align: right;\">\n",
              "      <th></th>\n",
              "      <th>count</th>\n",
              "      <th>mean</th>\n",
              "      <th>std</th>\n",
              "      <th>min</th>\n",
              "      <th>25%</th>\n",
              "      <th>50%</th>\n",
              "      <th>75%</th>\n",
              "      <th>max</th>\n",
              "    </tr>\n",
              "    <tr>\n",
              "      <th>job_title</th>\n",
              "      <th></th>\n",
              "      <th></th>\n",
              "      <th></th>\n",
              "      <th></th>\n",
              "      <th></th>\n",
              "      <th></th>\n",
              "      <th></th>\n",
              "      <th></th>\n",
              "    </tr>\n",
              "  </thead>\n",
              "  <tbody>\n",
              "    <tr>\n",
              "      <th>Data Engineer</th>\n",
              "      <td>89.0</td>\n",
              "      <td>126375.70</td>\n",
              "      <td>55954.40</td>\n",
              "      <td>25000.0</td>\n",
              "      <td>78526.0</td>\n",
              "      <td>120000.0</td>\n",
              "      <td>160000.0</td>\n",
              "      <td>324000.0</td>\n",
              "    </tr>\n",
              "    <tr>\n",
              "      <th>Data Scientist</th>\n",
              "      <td>77.0</td>\n",
              "      <td>136172.09</td>\n",
              "      <td>54563.08</td>\n",
              "      <td>18442.0</td>\n",
              "      <td>100000.0</td>\n",
              "      <td>140000.0</td>\n",
              "      <td>176000.0</td>\n",
              "      <td>260000.0</td>\n",
              "    </tr>\n",
              "  </tbody>\n",
              "</table>\n",
              "</div>"
            ],
            "text/plain": [
              "                count       mean       std      min       25%       50%  \\\n",
              "job_title                                                                 \n",
              "Data Engineer    89.0  126375.70  55954.40  25000.0   78526.0  120000.0   \n",
              "Data Scientist   77.0  136172.09  54563.08  18442.0  100000.0  140000.0   \n",
              "\n",
              "                     75%       max  \n",
              "job_title                           \n",
              "Data Engineer   160000.0  324000.0  \n",
              "Data Scientist  176000.0  260000.0  "
            ]
          },
          "execution_count": 15,
          "metadata": {},
          "output_type": "execute_result"
        }
      ],
      "source": [
        "data_agg = filtered_data.groupby('job_title')['salary_in_usd'].describe().round(2)\n",
        "print('Зарплаты в зависимости от вида деятельности')\n",
        "data_agg"
      ]
    },
    {
      "cell_type": "markdown",
      "metadata": {
        "id": "zK_jL2gjS9BL"
      },
      "source": [
        "На первый взгляд зарплаты Data Scientist выше. Чтобы определить, являются ли эти различия статистически значимыми, в следующем разделе мы проведём статистические тесты."
      ]
    },
    {
      "cell_type": "markdown",
      "metadata": {
        "id": "y5MHyfPTTshb"
      },
      "source": [
        "### Как соотносятся зарплаты специалистов Data Scientist в компаниях различных размеров? (В этом случае за DS принимаем все должности)"
      ]
    },
    {
      "cell_type": "code",
      "execution_count": 16,
      "metadata": {
        "colab": {
          "base_uri": "https://localhost:8080/",
          "height": 480
        },
        "id": "denXZIElwzvO",
        "outputId": "5101be0d-2e82-4126-ab69-ffc179b1626b"
      },
      "outputs": [
        {
          "data": {
            "image/png": "[encoded data removed]",
            "text/plain": [
              "<Figure size 640x480 with 1 Axes>"
            ]
          },
          "metadata": {},
          "output_type": "display_data"
        }
      ],
      "source": [
        "ax = sns.boxplot(data, x='salary_in_usd', y='company_size', orient='h', medianprops={\"color\": \"red\", \"linestyle\": '--'})\n",
        "ax.set(xlabel='Размер зарплат', ylabel='Размер компании')\n",
        "plt.title('Распределение зарплат от размера компании')\n",
        "plt.show()"
      ]
    },
    {
      "cell_type": "code",
      "execution_count": 17,
      "metadata": {
        "colab": {
          "base_uri": "https://localhost:8080/",
          "height": 223
        },
        "id": "xfI208tHwz6T",
        "outputId": "af1e6d3f-7417-4633-814a-353507e9104f"
      },
      "outputs": [
        {
          "name": "stdout",
          "output_type": "stream",
          "text": [
            "Зарплаты от размера компании\n"
          ]
        },
        {
          "data": {
            "text/html": [
              "<div>\n",
              "<style scoped>\n",
              "    .dataframe tbody tr th:only-of-type {\n",
              "        vertical-align: middle;\n",
              "    }\n",
              "\n",
              "    .dataframe tbody tr th {\n",
              "        vertical-align: top;\n",
              "    }\n",
              "\n",
              "    .dataframe thead th {\n",
              "        text-align: right;\n",
              "    }\n",
              "</style>\n",
              "<table border=\"1\" class=\"dataframe\">\n",
              "  <thead>\n",
              "    <tr style=\"text-align: right;\">\n",
              "      <th></th>\n",
              "      <th>count</th>\n",
              "      <th>mean</th>\n",
              "      <th>std</th>\n",
              "      <th>min</th>\n",
              "      <th>25%</th>\n",
              "      <th>50%</th>\n",
              "      <th>75%</th>\n",
              "      <th>max</th>\n",
              "    </tr>\n",
              "    <tr>\n",
              "      <th>company_size</th>\n",
              "      <th></th>\n",
              "      <th></th>\n",
              "      <th></th>\n",
              "      <th></th>\n",
              "      <th></th>\n",
              "      <th></th>\n",
              "      <th></th>\n",
              "      <th></th>\n",
              "    </tr>\n",
              "  </thead>\n",
              "  <tbody>\n",
              "    <tr>\n",
              "      <th>L</th>\n",
              "      <td>198.0</td>\n",
              "      <td>119242.99</td>\n",
              "      <td>86156.74</td>\n",
              "      <td>5882.0</td>\n",
              "      <td>61041.75</td>\n",
              "      <td>100000.0</td>\n",
              "      <td>154600.0</td>\n",
              "      <td>600000.0</td>\n",
              "    </tr>\n",
              "    <tr>\n",
              "      <th>M</th>\n",
              "      <td>326.0</td>\n",
              "      <td>116905.47</td>\n",
              "      <td>59287.69</td>\n",
              "      <td>4000.0</td>\n",
              "      <td>78131.50</td>\n",
              "      <td>113188.0</td>\n",
              "      <td>152875.0</td>\n",
              "      <td>450000.0</td>\n",
              "    </tr>\n",
              "    <tr>\n",
              "      <th>S</th>\n",
              "      <td>83.0</td>\n",
              "      <td>77632.67</td>\n",
              "      <td>63461.71</td>\n",
              "      <td>2859.0</td>\n",
              "      <td>41943.00</td>\n",
              "      <td>65000.0</td>\n",
              "      <td>100000.0</td>\n",
              "      <td>416000.0</td>\n",
              "    </tr>\n",
              "  </tbody>\n",
              "</table>\n",
              "</div>"
            ],
            "text/plain": [
              "              count       mean       std     min       25%       50%  \\\n",
              "company_size                                                           \n",
              "L             198.0  119242.99  86156.74  5882.0  61041.75  100000.0   \n",
              "M             326.0  116905.47  59287.69  4000.0  78131.50  113188.0   \n",
              "S              83.0   77632.67  63461.71  2859.0  41943.00   65000.0   \n",
              "\n",
              "                   75%       max  \n",
              "company_size                      \n",
              "L             154600.0  600000.0  \n",
              "M             152875.0  450000.0  \n",
              "S             100000.0  416000.0  "
            ]
          },
          "execution_count": 17,
          "metadata": {},
          "output_type": "execute_result"
        }
      ],
      "source": [
        "data_agg = data.groupby('company_size')['salary_in_usd'].describe().round(2)\n",
        "print('Зарплаты от размера компании')\n",
        "data_agg"
      ]
    },
    {
      "cell_type": "markdown",
      "metadata": {
        "id": "y_SC_018yS76"
      },
      "source": [
        "На первый взгляд зарплаты в малых компаниях ниже чем в средних и больших. Чтобы определить, являются ли эти различия статистически значимым, в следующем разделе мы проведём статистические тесты."
      ]
    },
    {
      "cell_type": "markdown",
      "metadata": {
        "id": "GlJ2fclcl7Zd"
      },
      "source": [
        "### Есть ли связь между наличием должностей Data Scientist и Data Engineer и размером компании? (В этом случае отфильтруем должности DS и DE)"
      ]
    },
    {
      "cell_type": "code",
      "execution_count": 18,
      "metadata": {
        "id": "Uk8459-8l7Zd",
        "outputId": "ec251979-47d0-4b80-8c0a-d4416583b95c"
      },
      "outputs": [
        {
          "data": {
            "image/png": "[encoded data removed]",
            "text/plain": [
              "<Figure size 640x480 with 1 Axes>"
            ]
          },
          "metadata": {},
          "output_type": "display_data"
        }
      ],
      "source": [
        "# Фильтрация данных для Data Scientist и Data Engineer\n",
        "data_filtered = data[(data['job_title'] == 'Data Scientist') | (data['job_title'] == 'Data Engineer')]\n",
        "ax = sns.countplot(data_filtered, x=data_filtered['job_title'], hue='company_size')\n",
        "ax.set(xlabel='Должность', ylabel='Количество')\n",
        "plt.title('Соотношение кол-ва должностей Data Scientist и Data Engineer от размера компании')\n",
        "plt.show()"
      ]
    },
    {
      "cell_type": "code",
      "execution_count": 19,
      "metadata": {
        "colab": {
          "base_uri": "https://localhost:8080/",
          "height": 480
        },
        "id": "81kAFODPl7Zd",
        "outputId": "3a36537f-39d6-4e12-a1c6-ec986ebdd15f"
      },
      "outputs": [
        {
          "data": {
            "image/png": "[encoded data removed]",
            "text/plain": [
              "<Figure size 640x480 with 2 Axes>"
            ]
          },
          "metadata": {},
          "output_type": "display_data"
        }
      ],
      "source": [
        "cross_tab = pd.crosstab(index=data_filtered['company_size'], columns=data_filtered['job_title'])\n",
        "ax = sns.heatmap(cross_tab, annot=True, linewidth=.5, fmt='.0f', cmap=\"coolwarm\")\n",
        "ax.set(xlabel='Должность', ylabel='Размер компании')\n",
        "plt.title('Таблица сопряженности')\n",
        "plt.show()"
      ]
    },
    {
      "cell_type": "markdown",
      "metadata": {
        "id": "Z0rsfkQql7Ze"
      },
      "source": [
        "Согласно данным количество должностей Data Scientist и Data Engineer в средних компаниях (M) выше чем в малых (S) и больших (L). Чтобы определить, являются ли эти различия статистически значимым, в следующем разделе мы проведём статистические тесты."
      ]
    },
    {
      "cell_type": "markdown",
      "metadata": {
        "id": "-UcttLBPfd8-"
      },
      "source": [
        "## Статистический анализ данных\n",
        "\n"
      ]
    },
    {
      "cell_type": "code",
      "execution_count": 20,
      "metadata": {
        "id": "sn3PGE23l7Ze"
      },
      "outputs": [],
      "source": [
        "# функция для принятия решения о нормальности\n",
        "def decision_normality(p):\n",
        "    print('p-value = {:.3f}'.format(p))\n",
        "    if p <= alpha:\n",
        "        print('p-значение меньше, чем заданный уровень значимости {:.2f}. Распределение отлично от нормального'.format(alpha))\n",
        "    else:\n",
        "        print('p-значение больше, чем заданный уровень значимости {:.2f}. Распределение является нормальным'.format(alpha))\n",
        "\n",
        "\n",
        "# функция для принятия решения об отклонении нулевой гипотезы\n",
        "def decision_hypothesis(p):\n",
        "    print('p-value = {:.3f}'.format(p))\n",
        "    if p <= alpha:\n",
        "        print('p-значение меньше, чем заданный уровень значимости {:.2f}. Отвергаем нулевую гипотезу в пользу альтернативной.'.format(alpha))\n",
        "    else:\n",
        "        print('p-значение больше, чем заданный уровень значимости {:.2f}. У нас нет оснований отвергнуть нулевую гипотезу.'.format(alpha))\n",
        "      "
      ]
    },
    {
      "cell_type": "markdown",
      "metadata": {
        "id": "zxbl3BYLGKIW"
      },
      "source": [
        "### Наблюдается ли изменения зарплат у специалистов Data Scientist? (В этом случае за DS принимаем все должности)\n",
        "\n",
        "**Сформулируем нулевую и альтернативные гипотезы**\n",
        "\n",
        "*Нулевая гипотеза* ($H_0$): размер зарплат не изменяется за период 2020-2022, примем за $μ_1$ - медианная зарплата за 2020, $μ_2$ - за 2021, $μ_3$ - за 2023 тогда:\n",
        "\n",
        "$$ H_0 : μ_1 = μ_2 = μ_3$$\n",
        "\n",
        "*Альтернативная гипотеза* ($H_1$): размер зарплат меняется за период 2020-2022, примем за $μ_1$ - медианная зарплата за 2020, $μ_2$ - за 2021, $μ_3$ - за 2023 тогда:\n",
        "\n",
        "$$ H_1 : μ_1 \\neq μ_2 \\neq μ_3$$"
      ]
    },
    {
      "cell_type": "markdown",
      "metadata": {
        "id": "Yi8l7ZWSl7Ze"
      },
      "source": [
        "**Проверка на нормальность**\n",
        "\n",
        "С помощью теста Шапиро-Уилка проверим, распределён ли признак нормально. Напомним гипотезы теста Шапиро-Уилка:\n",
        "\n",
        "*Нулевая гипотеза* ($H_0$): распределение данные является нормальным.\n",
        "\n",
        "*Альтернативная гипотеза* ($H_1$): распределение данных отлично от нормального."
      ]
    },
    {
      "cell_type": "code",
      "execution_count": 21,
      "metadata": {
        "colab": {
          "base_uri": "https://localhost:8080/"
        },
        "id": "bCxAGItPTHRe",
        "outputId": "334716f4-96c7-4a21-ca5f-c7d352adde2b"
      },
      "outputs": [
        {
          "name": "stdout",
          "output_type": "stream",
          "text": [
            "Зарплаты в 2020:\n",
            "p-value = 0.000\n",
            "p-значение меньше, чем заданный уровень значимости 0.05. Распределение отлично от нормального\n",
            "Зарплаты в 2021:\n",
            "p-value = 0.000\n",
            "p-значение меньше, чем заданный уровень значимости 0.05. Распределение отлично от нормального\n",
            "Зарплаты в 2022:\n",
            "p-value = 0.000\n",
            "p-значение меньше, чем заданный уровень значимости 0.05. Распределение отлично от нормального\n"
          ]
        }
      ],
      "source": [
        "# значения зарплат за 3 года\n",
        "salary_2020 = data.loc[data['work_year']==2020, 'salary_in_usd']\n",
        "salary_2021 = data.loc[data['work_year']==2021, 'salary_in_usd']\n",
        "salary_2022 = data.loc[data['work_year']==2022, 'salary_in_usd']\n",
        "\n",
        "# проводим тест Шапиро-Уилка\n",
        "print('Зарплаты в 2020:')\n",
        "result = stats.shapiro(salary_2020)\n",
        "decision_normality(result[1])\n",
        "\n",
        "print('Зарплаты в 2021:')\n",
        "result = stats.shapiro(salary_2021)\n",
        "decision_normality(result[1])\n",
        "\n",
        "print('Зарплаты в 2022:')\n",
        "result = stats.shapiro(salary_2022)\n",
        "decision_normality(result[1])"
      ]
    },
    {
      "cell_type": "markdown",
      "metadata": {
        "id": "IBOYMwmfTHRu"
      },
      "source": [
        "**Выберем подходящий статистический тест**\n",
        "\n",
        "Для выбора нужного теста воспользуемся алгоритмом выбора теста. Для этого ответим на следующие вопросы:\n",
        "* Какой тип у признака «salary_in_usd»? — Количественный.\n",
        "* Сколько сравниваемых групп? — Две.\n",
        "* Группы зависимы? — Нет.\n",
        "* Признак распределён по нормальному закону? — Нет (только один из двух по нормальному)\n",
        "\n",
        "Чтобы проверить нашу гипотезу, можно использовать U-критерий Манна — Уитни для сравнения распределений на основе рангов.\n",
        "\n",
        "**Проведём тест**"
      ]
    },
    {
      "cell_type": "code",
      "execution_count": 22,
      "metadata": {
        "colab": {
          "base_uri": "https://localhost:8080/"
        },
        "id": "xaQuaMV8THRu",
        "outputId": "0e37fc3b-bd2e-4166-8d52-f373fd82c672"
      },
      "outputs": [
        {
          "name": "stdout",
          "output_type": "stream",
          "text": [
            "p-value = 0.000\n",
            "p-значение меньше, чем заданный уровень значимости 0.05. Отвергаем нулевую гипотезу в пользу альтернативной.\n"
          ]
        }
      ],
      "source": [
        "# проводим тест\n",
        "_, p = stats.kruskal(salary_2020, salary_2021, salary_2022)\n",
        "decision_hypothesis(p)"
      ]
    },
    {
      "cell_type": "code",
      "execution_count": 23,
      "metadata": {},
      "outputs": [
        {
          "name": "stdout",
          "output_type": "stream",
          "text": [
            "Медианные зарплаты по годам\n"
          ]
        },
        {
          "data": {
            "text/html": [
              "<div>\n",
              "<style scoped>\n",
              "    .dataframe tbody tr th:only-of-type {\n",
              "        vertical-align: middle;\n",
              "    }\n",
              "\n",
              "    .dataframe tbody tr th {\n",
              "        vertical-align: top;\n",
              "    }\n",
              "\n",
              "    .dataframe thead th {\n",
              "        text-align: right;\n",
              "    }\n",
              "</style>\n",
              "<table border=\"1\" class=\"dataframe\">\n",
              "  <thead>\n",
              "    <tr style=\"text-align: right;\">\n",
              "      <th></th>\n",
              "      <th>count</th>\n",
              "      <th>mean</th>\n",
              "      <th>std</th>\n",
              "      <th>min</th>\n",
              "      <th>25%</th>\n",
              "      <th>50%</th>\n",
              "      <th>75%</th>\n",
              "      <th>max</th>\n",
              "    </tr>\n",
              "    <tr>\n",
              "      <th>work_year</th>\n",
              "      <th></th>\n",
              "      <th></th>\n",
              "      <th></th>\n",
              "      <th></th>\n",
              "      <th></th>\n",
              "      <th></th>\n",
              "      <th></th>\n",
              "      <th></th>\n",
              "    </tr>\n",
              "  </thead>\n",
              "  <tbody>\n",
              "    <tr>\n",
              "      <th>2020</th>\n",
              "      <td>72.0</td>\n",
              "      <td>95813.00</td>\n",
              "      <td>82831.80</td>\n",
              "      <td>5707.0</td>\n",
              "      <td>45724.5</td>\n",
              "      <td>75544.0</td>\n",
              "      <td>115526.0</td>\n",
              "      <td>450000.0</td>\n",
              "    </tr>\n",
              "    <tr>\n",
              "      <th>2021</th>\n",
              "      <td>217.0</td>\n",
              "      <td>99853.79</td>\n",
              "      <td>80225.11</td>\n",
              "      <td>2859.0</td>\n",
              "      <td>50000.0</td>\n",
              "      <td>82528.0</td>\n",
              "      <td>135000.0</td>\n",
              "      <td>600000.0</td>\n",
              "    </tr>\n",
              "    <tr>\n",
              "      <th>2022</th>\n",
              "      <td>318.0</td>\n",
              "      <td>124522.01</td>\n",
              "      <td>58183.65</td>\n",
              "      <td>10000.0</td>\n",
              "      <td>81666.0</td>\n",
              "      <td>120000.0</td>\n",
              "      <td>160000.0</td>\n",
              "      <td>405000.0</td>\n",
              "    </tr>\n",
              "  </tbody>\n",
              "</table>\n",
              "</div>"
            ],
            "text/plain": [
              "           count       mean       std      min      25%       50%       75%  \\\n",
              "work_year                                                                     \n",
              "2020        72.0   95813.00  82831.80   5707.0  45724.5   75544.0  115526.0   \n",
              "2021       217.0   99853.79  80225.11   2859.0  50000.0   82528.0  135000.0   \n",
              "2022       318.0  124522.01  58183.65  10000.0  81666.0  120000.0  160000.0   \n",
              "\n",
              "                max  \n",
              "work_year            \n",
              "2020       450000.0  \n",
              "2021       600000.0  \n",
              "2022       405000.0  "
            ]
          },
          "execution_count": 23,
          "metadata": {},
          "output_type": "execute_result"
        }
      ],
      "source": [
        "data_agg = data.groupby('work_year')['salary_in_usd'].describe().round(2)\n",
        "print('Медианные зарплаты по годам')\n",
        "data_agg"
      ]
    },
    {
      "cell_type": "markdown",
      "metadata": {
        "id": "aZEt9hu-Q995"
      },
      "source": [
        "**Вывод**\n",
        "\n",
        "Мы можем утверждать что наблюдается изменения зарплат в у специалистов Data Scientist за период 2020-2022. Медианные зарплаты растут."
      ]
    },
    {
      "cell_type": "markdown",
      "metadata": {
        "id": "JW47VJo3Q99s"
      },
      "source": [
        "### Размер зарплат Data Scientist выше чем Data Engineer в 2022 году? (В этом случае отфильтруем должности DS и DE)\n",
        "\n",
        "\n",
        "**Сформулируем нулевую и альтернативные гипотезы**\n",
        "\n",
        "*Нулевая гипотеза* ($H_0$): размер зарплат Data Scientist ($μ_1$) статистически ниже либо равен размеру зарплат Data Engineer ($μ_2$).\n",
        "\n",
        "$$ H_0 : μ_1 <= μ_2$$\n",
        "\n",
        "*Альтернативная гипотеза* ($H_1$): размер зарплат Data Scientist ($μ_1$) статистически выше размера зарплат Data Engineer ($μ_2$).\n",
        "$$ H_1 : μ_1 > μ_2$$\n",
        "\n",
        "\n"
      ]
    },
    {
      "cell_type": "markdown",
      "metadata": {
        "id": "kMk6Q5sRl7Zf"
      },
      "source": [
        "**Проверка на нормальность**\n",
        "\n",
        "С помощью теста Шапиро-Уилка проверим, распределён ли признак нормально."
      ]
    },
    {
      "cell_type": "code",
      "execution_count": 24,
      "metadata": {
        "colab": {
          "base_uri": "https://localhost:8080/"
        },
        "id": "JxXzC7-_RNDj",
        "outputId": "6e4c2c71-7d7d-4510-883c-8a52b5f64149"
      },
      "outputs": [
        {
          "name": "stdout",
          "output_type": "stream",
          "text": [
            "Зарплаты Data Scientist:\n",
            "p-value = 0.327\n",
            "p-значение больше, чем заданный уровень значимости 0.05. Распределение является нормальным\n",
            "Зарплаты Data Engineer:\n",
            "p-value = 0.010\n",
            "p-значение меньше, чем заданный уровень значимости 0.05. Распределение отлично от нормального\n"
          ]
        }
      ],
      "source": [
        "# значения зарплат Data Scientist и Data Engineer\n",
        "ds_salary = data.loc[(data['work_year'] == 2022) & (data['job_title'] == 'Data Scientist'), 'salary_in_usd']\n",
        "de_salary = data.loc[(data['work_year'] == 2022) & (data['job_title'] == 'Data Engineer'), 'salary_in_usd']\n",
        "\n",
        "# проводим тест Шапиро-Уилка\n",
        "print('Зарплаты Data Scientist:')\n",
        "result = stats.shapiro(ds_salary)\n",
        "decision_normality(result[1])\n",
        "\n",
        "print('Зарплаты Data Engineer:')\n",
        "result = stats.shapiro(de_salary)\n",
        "decision_normality(result[1])"
      ]
    },
    {
      "cell_type": "markdown",
      "metadata": {
        "id": "gKIiBvTMRNDk"
      },
      "source": [
        "**Выберем подходящий статистический тест**\n",
        "\n",
        "Для выбора нужного теста воспользуемся алгоритмом выбора теста. Для этого ответим на следующие вопросы:\n",
        "* Какой тип у признака «salary_in_usd»? — Количественный.\n",
        "* Сколько сравниваемых групп? — Две.\n",
        "* Группы зависимы? — Нет.\n",
        "* Признак распределён по нормальному закону? — Нет.\n",
        "\n",
        "Для проверки нашей гипотезы можно использовать U-критерий Манна — Уитни.\n",
        "\n",
        "**Проведём тест**\n"
      ]
    },
    {
      "cell_type": "code",
      "execution_count": 25,
      "metadata": {
        "colab": {
          "base_uri": "https://localhost:8080/"
        },
        "id": "93N51wSsRNDk",
        "outputId": "0df1775e-94ad-41b1-d7fc-4d91335fc590"
      },
      "outputs": [
        {
          "name": "stdout",
          "output_type": "stream",
          "text": [
            "p-value = 0.077\n",
            "p-значение больше, чем заданный уровень значимости 0.05. У нас нет оснований отвергнуть нулевую гипотезу.\n"
          ]
        }
      ],
      "source": [
        "# проводим тест\n",
        "_, p = stats.mannwhitneyu(ds_salary, de_salary, alternative='greater')\n",
        "decision_hypothesis(p)"
      ]
    },
    {
      "cell_type": "markdown",
      "metadata": {
        "id": "yZogeviaRNDk"
      },
      "source": [
        "**Вывод**\n",
        "\n",
        "У нас нет оснований утверждать что размер зарплат Data Scientist статистически выше размера зарплат Data Engineer"
      ]
    },
    {
      "cell_type": "markdown",
      "metadata": {
        "id": "ByITCYyXGKb4"
      },
      "source": [
        "### Влияет ли размер компании на зарплаты специалистов Data Scientist? (В этом случае за DS принимаем все должности)\n",
        "\n",
        "**Сформулируем нулевую и альтернативные гипотезы**\n",
        "\n",
        "*Нулевая гипотеза*: размер зарплат не отличается в разных по размеру компаний: ЗП в небольшой компании S ($μ_1$), ЗП в средней компании M ($μ_2$), ЗП в большой компании L ($μ_3$).\n",
        "\n",
        "$$ H_0 : μ_1 = μ_2 = μ_3$$\n",
        "\n",
        "*Альтернативная гипотеза*: размер зарплат отличается в разных по размеру компаний: ЗП в небольшой компании S ($μ_1$), ЗП в средней компании M ($μ_2$), ЗП в большой компании L ($μ_3$).\n",
        "\n",
        "$$ H_1 : μ_1 \\neq μ_2 \\neq μ_3$$\n",
        "\n"
      ]
    },
    {
      "cell_type": "markdown",
      "metadata": {
        "id": "dPXLUo31l7Zg"
      },
      "source": [
        "**Проверка на нормальность**\n",
        "\n",
        "С помощью теста Шапиро-Уилка проверим, распределён ли признак нормально."
      ]
    },
    {
      "cell_type": "code",
      "execution_count": 26,
      "metadata": {
        "colab": {
          "base_uri": "https://localhost:8080/"
        },
        "id": "0g8PmvdlGKmP",
        "outputId": "48892466-4da7-4a58-c414-d3af794b053d"
      },
      "outputs": [
        {
          "name": "stdout",
          "output_type": "stream",
          "text": [
            "ЗП в небольшой компании:\n",
            "p-value = 0.000\n",
            "p-значение меньше, чем заданный уровень значимости 0.05. Распределение отлично от нормального\n",
            "ЗП в средней компании:\n",
            "p-value = 0.000\n",
            "p-значение меньше, чем заданный уровень значимости 0.05. Распределение отлично от нормального\n",
            "ЗП в большой компании:\n",
            "p-value = 0.000\n",
            "p-значение меньше, чем заданный уровень значимости 0.05. Распределение отлично от нормального\n"
          ]
        }
      ],
      "source": [
        "# значения зарплат\n",
        "s_salary = data.loc[data['company_size']=='S', 'salary_in_usd']\n",
        "m_salary = data.loc[data['company_size']=='M', 'salary_in_usd']\n",
        "l_salary = data.loc[data['company_size']=='L', 'salary_in_usd']\n",
        "\n",
        "# проводим тест Шапиро-Уилка\n",
        "print('ЗП в небольшой компании:')\n",
        "result = stats.shapiro(s_salary)\n",
        "decision_normality(result[1])\n",
        "\n",
        "print('ЗП в средней компании:')\n",
        "result = stats.shapiro(m_salary)\n",
        "decision_normality(result[1])\n",
        "\n",
        "print('ЗП в большой компании:')\n",
        "result = stats.shapiro(s_salary)\n",
        "decision_normality(result[1])\n"
      ]
    },
    {
      "cell_type": "markdown",
      "metadata": {
        "id": "FPq2KNq4dbWj"
      },
      "source": [
        "**Выберем подходящий статистический тест**\n",
        "\n",
        "Для выбора нужного теста воспользуемся алгоритмом выбора теста. Для этого ответим на следующие вопросы:\n",
        "* Какой тип у признака «salary_in_usd»? — Количественный.\n",
        "* Сколько сравниваемых групп? — Три.\n",
        "* Группы зависимы? — Нет.\n",
        "* Признак распределён по нормальному закону? — Нет. \n",
        "\n",
        "Для проверки нашей гипотезы можно использовать критерий Краскела — Уоллиса.\n",
        "\n",
        "**Проведём тест**"
      ]
    },
    {
      "cell_type": "code",
      "execution_count": 27,
      "metadata": {
        "colab": {
          "base_uri": "https://localhost:8080/"
        },
        "id": "ZIJjzAQxfnsp",
        "outputId": "11a9cf62-98d8-4de3-9cec-1c040577ac51"
      },
      "outputs": [
        {
          "name": "stdout",
          "output_type": "stream",
          "text": [
            "p-value = 0.000\n",
            "p-значение меньше, чем заданный уровень значимости 0.05. Отвергаем нулевую гипотезу в пользу альтернативной.\n"
          ]
        }
      ],
      "source": [
        "# проводим тест\n",
        "_, p = stats.kruskal(s_salary, m_salary, l_salary)\n",
        "decision_hypothesis(p)"
      ]
    },
    {
      "cell_type": "code",
      "execution_count": 28,
      "metadata": {},
      "outputs": [
        {
          "name": "stdout",
          "output_type": "stream",
          "text": [
            "Зарплаты от размера компании\n"
          ]
        },
        {
          "data": {
            "text/html": [
              "<div>\n",
              "<style scoped>\n",
              "    .dataframe tbody tr th:only-of-type {\n",
              "        vertical-align: middle;\n",
              "    }\n",
              "\n",
              "    .dataframe tbody tr th {\n",
              "        vertical-align: top;\n",
              "    }\n",
              "\n",
              "    .dataframe thead th {\n",
              "        text-align: right;\n",
              "    }\n",
              "</style>\n",
              "<table border=\"1\" class=\"dataframe\">\n",
              "  <thead>\n",
              "    <tr style=\"text-align: right;\">\n",
              "      <th></th>\n",
              "      <th>count</th>\n",
              "      <th>mean</th>\n",
              "      <th>std</th>\n",
              "      <th>min</th>\n",
              "      <th>25%</th>\n",
              "      <th>50%</th>\n",
              "      <th>75%</th>\n",
              "      <th>max</th>\n",
              "    </tr>\n",
              "    <tr>\n",
              "      <th>company_size</th>\n",
              "      <th></th>\n",
              "      <th></th>\n",
              "      <th></th>\n",
              "      <th></th>\n",
              "      <th></th>\n",
              "      <th></th>\n",
              "      <th></th>\n",
              "      <th></th>\n",
              "    </tr>\n",
              "  </thead>\n",
              "  <tbody>\n",
              "    <tr>\n",
              "      <th>L</th>\n",
              "      <td>198.0</td>\n",
              "      <td>119242.99</td>\n",
              "      <td>86156.74</td>\n",
              "      <td>5882.0</td>\n",
              "      <td>61041.75</td>\n",
              "      <td>100000.0</td>\n",
              "      <td>154600.0</td>\n",
              "      <td>600000.0</td>\n",
              "    </tr>\n",
              "    <tr>\n",
              "      <th>M</th>\n",
              "      <td>326.0</td>\n",
              "      <td>116905.47</td>\n",
              "      <td>59287.69</td>\n",
              "      <td>4000.0</td>\n",
              "      <td>78131.50</td>\n",
              "      <td>113188.0</td>\n",
              "      <td>152875.0</td>\n",
              "      <td>450000.0</td>\n",
              "    </tr>\n",
              "    <tr>\n",
              "      <th>S</th>\n",
              "      <td>83.0</td>\n",
              "      <td>77632.67</td>\n",
              "      <td>63461.71</td>\n",
              "      <td>2859.0</td>\n",
              "      <td>41943.00</td>\n",
              "      <td>65000.0</td>\n",
              "      <td>100000.0</td>\n",
              "      <td>416000.0</td>\n",
              "    </tr>\n",
              "  </tbody>\n",
              "</table>\n",
              "</div>"
            ],
            "text/plain": [
              "              count       mean       std     min       25%       50%  \\\n",
              "company_size                                                           \n",
              "L             198.0  119242.99  86156.74  5882.0  61041.75  100000.0   \n",
              "M             326.0  116905.47  59287.69  4000.0  78131.50  113188.0   \n",
              "S              83.0   77632.67  63461.71  2859.0  41943.00   65000.0   \n",
              "\n",
              "                   75%       max  \n",
              "company_size                      \n",
              "L             154600.0  600000.0  \n",
              "M             152875.0  450000.0  \n",
              "S             100000.0  416000.0  "
            ]
          },
          "execution_count": 28,
          "metadata": {},
          "output_type": "execute_result"
        }
      ],
      "source": [
        "data_agg = data.groupby('company_size')['salary_in_usd'].describe().round(2)\n",
        "print('Зарплаты от размера компании')\n",
        "data_agg"
      ]
    },
    {
      "cell_type": "markdown",
      "metadata": {
        "id": "TESdSdapPblj"
      },
      "source": [
        "**Вывод**\n",
        "\n",
        "У нас есть основания утверждать, что размер зарплат зависит от размеров компаний. Наименьшая медианная ЗП у малых компаний"
      ]
    },
    {
      "cell_type": "markdown",
      "metadata": {
        "id": "C_BzXnR7l7Zh"
      },
      "source": [
        "### Есть ли связь между наличием должностей Data Scientist и Data Engineer и размером компании?"
      ]
    },
    {
      "cell_type": "markdown",
      "metadata": {
        "id": "nTL6_EGyl7Zh"
      },
      "source": [
        "**Сформулируем нулевую и альтернативные гипотезы**\n",
        "\n",
        "*Нулевая гипотеза*: между наличием должностей Data Scientist и Data Engineer и размером компании нет взаимосвязи (признаки независимы).\n",
        "\n",
        "*Альтернативная гипотеза*: между наличием должностей Data Scientist и Data Engineer и размером компании есть взаимосвязь (признаки зависимы).\n"
      ]
    },
    {
      "cell_type": "markdown",
      "metadata": {
        "id": "JBDWUoufl7Zh"
      },
      "source": [
        "**Выберем подходящий статистический тест**\n",
        "\n",
        "Для выбора нужного теста воспользуемся алгоритмом выбора теста. Для этого ответим на следующие вопросы:\n",
        "* Какой тип у признака «Размер компании»? — Категориальный.\n",
        "* Сколько сравниваемых групп? — Две.\n",
        "* Проверяется независимость групп? — Да.\n",
        "\n",
        "Для проверки нашей гипотезы можно использовать критерий ${\\chi}^2$ (хи-квадрат).\n",
        "\n",
        "**Проведём тест**"
      ]
    },
    {
      "cell_type": "code",
      "execution_count": 29,
      "metadata": {
        "colab": {
          "base_uri": "https://localhost:8080/",
          "height": 143
        },
        "id": "Hs4I-87_l7Zh",
        "outputId": "3c863879-9c55-497e-de9e-16dff9c07675"
      },
      "outputs": [
        {
          "data": {
            "text/html": [
              "<div>\n",
              "<style scoped>\n",
              "    .dataframe tbody tr th:only-of-type {\n",
              "        vertical-align: middle;\n",
              "    }\n",
              "\n",
              "    .dataframe tbody tr th {\n",
              "        vertical-align: top;\n",
              "    }\n",
              "\n",
              "    .dataframe thead th {\n",
              "        text-align: right;\n",
              "    }\n",
              "</style>\n",
              "<table border=\"1\" class=\"dataframe\">\n",
              "  <thead>\n",
              "    <tr style=\"text-align: right;\">\n",
              "      <th>job_title</th>\n",
              "      <th>Data Engineer</th>\n",
              "      <th>Data Scientist</th>\n",
              "    </tr>\n",
              "    <tr>\n",
              "      <th>company_size</th>\n",
              "      <th></th>\n",
              "      <th></th>\n",
              "    </tr>\n",
              "  </thead>\n",
              "  <tbody>\n",
              "    <tr>\n",
              "      <th>L</th>\n",
              "      <td>37</td>\n",
              "      <td>45</td>\n",
              "    </tr>\n",
              "    <tr>\n",
              "      <th>M</th>\n",
              "      <td>89</td>\n",
              "      <td>77</td>\n",
              "    </tr>\n",
              "    <tr>\n",
              "      <th>S</th>\n",
              "      <td>6</td>\n",
              "      <td>21</td>\n",
              "    </tr>\n",
              "  </tbody>\n",
              "</table>\n",
              "</div>"
            ],
            "text/plain": [
              "job_title     Data Engineer  Data Scientist\n",
              "company_size                               \n",
              "L                        37              45\n",
              "M                        89              77\n",
              "S                         6              21"
            ]
          },
          "execution_count": 29,
          "metadata": {},
          "output_type": "execute_result"
        }
      ],
      "source": [
        "# Фильтрация данных для Data Scientist и Data Engineer\n",
        "data_filtered = data[(data['job_title'] == 'Data Scientist') | (data['job_title'] == 'Data Engineer')]\n",
        "# составляем таблицу сопряжённости\n",
        "cross_table = pd.crosstab(index=data_filtered['company_size'], columns=data_filtered['job_title'])\n",
        "\n",
        "cross_table"
      ]
    },
    {
      "cell_type": "code",
      "execution_count": 30,
      "metadata": {
        "colab": {
          "base_uri": "https://localhost:8080/"
        },
        "id": "QluLlU6Kl7Zh",
        "outputId": "93379b4f-594d-45a6-8283-733c181331fd"
      },
      "outputs": [
        {
          "name": "stdout",
          "output_type": "stream",
          "text": [
            "p-value = 0.008\n",
            "p-значение меньше, чем заданный уровень значимости 0.05. Отвергаем нулевую гипотезу в пользу альтернативной.\n"
          ]
        }
      ],
      "source": [
        "# проводим тест\n",
        "_, p, _, _ = stats.chi2_contingency(cross_table)\n",
        "decision_hypothesis(p)"
      ]
    },
    {
      "cell_type": "markdown",
      "metadata": {
        "id": "iX8a9h8Dl7Zh"
      },
      "source": [
        "**Вывод**\n",
        "\n",
        "Существует статистически значимая взаимосвязь между наличием должностей Data Scientist и Data Engineer и размером компании."
      ]
    },
    {
      "cell_type": "markdown",
      "metadata": {},
      "source": [
        "### Дополнительное исследование. Если связь между величиной зарплаты и опытом работы в Data Science"
      ]
    },
    {
      "cell_type": "code",
      "execution_count": 31,
      "metadata": {},
      "outputs": [
        {
          "data": {
            "image/png": "[encoded data removed]",
            "text/plain": [
              "<Figure size 640x480 with 1 Axes>"
            ]
          },
          "metadata": {},
          "output_type": "display_data"
        }
      ],
      "source": [
        "ax = sns.boxplot(data, x='salary_in_usd', y='experience_level', orient='h', medianprops={\"color\": \"red\", \"linestyle\": '--'})\n",
        "ax.set(xlabel='Размер зарплат', ylabel='Опыт работы')\n",
        "plt.title('Распределение зарплат по опыту работы')\n",
        "plt.show()"
      ]
    },
    {
      "cell_type": "code",
      "execution_count": 32,
      "metadata": {},
      "outputs": [
        {
          "name": "stdout",
          "output_type": "stream",
          "text": [
            "Распределение зарплат по опыту работы\n"
          ]
        },
        {
          "data": {
            "text/html": [
              "<div>\n",
              "<style scoped>\n",
              "    .dataframe tbody tr th:only-of-type {\n",
              "        vertical-align: middle;\n",
              "    }\n",
              "\n",
              "    .dataframe tbody tr th {\n",
              "        vertical-align: top;\n",
              "    }\n",
              "\n",
              "    .dataframe thead th {\n",
              "        text-align: right;\n",
              "    }\n",
              "</style>\n",
              "<table border=\"1\" class=\"dataframe\">\n",
              "  <thead>\n",
              "    <tr style=\"text-align: right;\">\n",
              "      <th></th>\n",
              "      <th>count</th>\n",
              "      <th>mean</th>\n",
              "      <th>std</th>\n",
              "      <th>min</th>\n",
              "      <th>25%</th>\n",
              "      <th>50%</th>\n",
              "      <th>75%</th>\n",
              "      <th>max</th>\n",
              "    </tr>\n",
              "    <tr>\n",
              "      <th>experience_level</th>\n",
              "      <th></th>\n",
              "      <th></th>\n",
              "      <th></th>\n",
              "      <th></th>\n",
              "      <th></th>\n",
              "      <th></th>\n",
              "      <th></th>\n",
              "      <th></th>\n",
              "    </tr>\n",
              "  </thead>\n",
              "  <tbody>\n",
              "    <tr>\n",
              "      <th>EN</th>\n",
              "      <td>88.0</td>\n",
              "      <td>61643.32</td>\n",
              "      <td>44395.54</td>\n",
              "      <td>4000.0</td>\n",
              "      <td>27505.0</td>\n",
              "      <td>56500.0</td>\n",
              "      <td>85425.75</td>\n",
              "      <td>250000.0</td>\n",
              "    </tr>\n",
              "    <tr>\n",
              "      <th>EX</th>\n",
              "      <td>26.0</td>\n",
              "      <td>199392.04</td>\n",
              "      <td>117071.26</td>\n",
              "      <td>69741.0</td>\n",
              "      <td>130006.5</td>\n",
              "      <td>171437.5</td>\n",
              "      <td>233750.00</td>\n",
              "      <td>600000.0</td>\n",
              "    </tr>\n",
              "    <tr>\n",
              "      <th>MI</th>\n",
              "      <td>213.0</td>\n",
              "      <td>87996.06</td>\n",
              "      <td>63901.06</td>\n",
              "      <td>2859.0</td>\n",
              "      <td>48000.0</td>\n",
              "      <td>76940.0</td>\n",
              "      <td>112000.00</td>\n",
              "      <td>450000.0</td>\n",
              "    </tr>\n",
              "    <tr>\n",
              "      <th>SE</th>\n",
              "      <td>280.0</td>\n",
              "      <td>138617.29</td>\n",
              "      <td>57691.98</td>\n",
              "      <td>18907.0</td>\n",
              "      <td>100000.0</td>\n",
              "      <td>135500.0</td>\n",
              "      <td>170000.00</td>\n",
              "      <td>412000.0</td>\n",
              "    </tr>\n",
              "  </tbody>\n",
              "</table>\n",
              "</div>"
            ],
            "text/plain": [
              "                  count       mean        std      min       25%       50%  \\\n",
              "experience_level                                                             \n",
              "EN                 88.0   61643.32   44395.54   4000.0   27505.0   56500.0   \n",
              "EX                 26.0  199392.04  117071.26  69741.0  130006.5  171437.5   \n",
              "MI                213.0   87996.06   63901.06   2859.0   48000.0   76940.0   \n",
              "SE                280.0  138617.29   57691.98  18907.0  100000.0  135500.0   \n",
              "\n",
              "                        75%       max  \n",
              "experience_level                       \n",
              "EN                 85425.75  250000.0  \n",
              "EX                233750.00  600000.0  \n",
              "MI                112000.00  450000.0  \n",
              "SE                170000.00  412000.0  "
            ]
          },
          "execution_count": 32,
          "metadata": {},
          "output_type": "execute_result"
        }
      ],
      "source": [
        "data_agg = data.groupby('experience_level')['salary_in_usd'].describe().round(2)\n",
        "print('Распределение зарплат по опыту работы')\n",
        "data_agg"
      ]
    },
    {
      "cell_type": "markdown",
      "metadata": {},
      "source": [
        "Распределения зарплат различны для разных опытов работ. Чтобы определить, являются ли эти различия статистически значимыми, проведём статистические тесты."
      ]
    },
    {
      "cell_type": "markdown",
      "metadata": {},
      "source": [
        "**Сформулируем нулевую и альтернативные гипотезы**\n",
        "\n",
        "*Нулевая гипотеза*: размер зарплат не отличается от опыта работы: EN — Entry-level/Junior ($μ_1$), MI — Mid-level/Intermediate ($μ_2$), Senior-level/Expert ($μ_3$), Executive-level/Director ($μ_4$).\n",
        "\n",
        "$$ H_0 : μ_1 = μ_2 = μ_3 = μ_4$$\n",
        "\n",
        "*Альтернативная гипотеза*: размер зарплат отличается от опыта работы: EN — Entry-level/Junior ($μ_1$), MI — Mid-level/Intermediate ($μ_2$), Senior-level/Expert ($μ_3$), Executive-level/Director ($μ_4$).\n",
        "\n",
        "$$ H_1 : μ_1 \\neq μ_2 \\neq μ_3 \\neq μ_4$$"
      ]
    },
    {
      "cell_type": "markdown",
      "metadata": {},
      "source": [
        "**Проверка на нормальность**\n",
        "\n",
        "С помощью теста Шапиро-Уилка проверим, распределён ли признак нормально."
      ]
    },
    {
      "cell_type": "code",
      "execution_count": 33,
      "metadata": {},
      "outputs": [
        {
          "name": "stdout",
          "output_type": "stream",
          "text": [
            "ЗП для Entry-level/Junior:\n",
            "p-value = 0.000\n",
            "p-значение меньше, чем заданный уровень значимости 0.05. Распределение отлично от нормального\n",
            "ЗП для Mid-level/Intermediate:\n",
            "p-value = 0.000\n",
            "p-значение меньше, чем заданный уровень значимости 0.05. Распределение отлично от нормального\n",
            "ЗП для Senior-level/Expert:\n",
            "p-value = 0.000\n",
            "p-значение меньше, чем заданный уровень значимости 0.05. Распределение отлично от нормального\n",
            "ЗП Executive-level/Director:\n",
            "p-value = 0.001\n",
            "p-значение меньше, чем заданный уровень значимости 0.05. Распределение отлично от нормального\n"
          ]
        }
      ],
      "source": [
        "# значения зарплат\n",
        "en_salary = data.loc[data['experience_level']=='EN', 'salary_in_usd']\n",
        "mi_salary = data.loc[data['experience_level']=='MI', 'salary_in_usd']\n",
        "se_salary = data.loc[data['experience_level']=='SE', 'salary_in_usd']\n",
        "ex_salary = data.loc[data['experience_level']=='EX', 'salary_in_usd']\n",
        "\n",
        "# проводим тест Шапиро-Уилка\n",
        "print('ЗП для Entry-level/Junior:')\n",
        "result = stats.shapiro(en_salary)\n",
        "decision_normality(result[1])\n",
        "\n",
        "print('ЗП для Mid-level/Intermediate:')\n",
        "result = stats.shapiro(mi_salary)\n",
        "decision_normality(result[1])\n",
        "\n",
        "print('ЗП для Senior-level/Expert:')\n",
        "result = stats.shapiro(se_salary)\n",
        "decision_normality(result[1])\n",
        "\n",
        "print('ЗП Executive-level/Director:')\n",
        "result = stats.shapiro(ex_salary)\n",
        "decision_normality(result[1])"
      ]
    },
    {
      "cell_type": "markdown",
      "metadata": {},
      "source": [
        "**Выберем подходящий статистический тест**\n",
        "\n",
        "Для выбора нужного теста воспользуемся алгоритмом выбора теста. Для этого ответим на следующие вопросы:\n",
        "* Какой тип у признака «salary_in_usd»? — Количественный.\n",
        "* Сколько сравниваемых групп? — Четыре.\n",
        "* Группы зависимы? — Нет.\n",
        "* Признак распределён по нормальному закону? — Нет. \n",
        "\n",
        "Для проверки нашей гипотезы можно использовать критерий Краскела — Уоллиса.\n",
        "\n",
        "**Проведём тест**"
      ]
    },
    {
      "cell_type": "code",
      "execution_count": 34,
      "metadata": {},
      "outputs": [
        {
          "name": "stdout",
          "output_type": "stream",
          "text": [
            "p-value = 0.000\n",
            "p-значение меньше, чем заданный уровень значимости 0.05. Отвергаем нулевую гипотезу в пользу альтернативной.\n"
          ]
        }
      ],
      "source": [
        "# проводим тест\n",
        "_, p = stats.kruskal(en_salary, mi_salary, se_salary, ex_salary)\n",
        "decision_hypothesis(p)"
      ]
    },
    {
      "cell_type": "markdown",
      "metadata": {},
      "source": [
        "**Вывод**\n",
        "\n",
        "У нас есть основания утверждать, что размер зарплат зависит от опыта работы."
      ]
    },
    {
      "cell_type": "markdown",
      "metadata": {},
      "source": [
        "### Дополнительное исследование. Если связь между величиной зарплаты и типом трудоустройства в Data Science"
      ]
    },
    {
      "cell_type": "code",
      "execution_count": 35,
      "metadata": {},
      "outputs": [
        {
          "data": {
            "image/png": "[encoded data removed]",
            "text/plain": [
              "<Figure size 640x480 with 1 Axes>"
            ]
          },
          "metadata": {},
          "output_type": "display_data"
        }
      ],
      "source": [
        "ax = sns.boxplot(data, x='salary_in_usd', y='employment_type', orient='h', medianprops={\"color\": \"red\", \"linestyle\": '--'})\n",
        "ax.set(xlabel='Размер зарплат', ylabel='Тип трудоустройства')\n",
        "plt.title('Распределение зарплат по типу трудоустройства')\n",
        "plt.show()"
      ]
    },
    {
      "cell_type": "code",
      "execution_count": 36,
      "metadata": {},
      "outputs": [
        {
          "name": "stdout",
          "output_type": "stream",
          "text": [
            "Распределение зарплат по типу трудоустройства\n"
          ]
        },
        {
          "data": {
            "text/html": [
              "<div>\n",
              "<style scoped>\n",
              "    .dataframe tbody tr th:only-of-type {\n",
              "        vertical-align: middle;\n",
              "    }\n",
              "\n",
              "    .dataframe tbody tr th {\n",
              "        vertical-align: top;\n",
              "    }\n",
              "\n",
              "    .dataframe thead th {\n",
              "        text-align: right;\n",
              "    }\n",
              "</style>\n",
              "<table border=\"1\" class=\"dataframe\">\n",
              "  <thead>\n",
              "    <tr style=\"text-align: right;\">\n",
              "      <th></th>\n",
              "      <th>count</th>\n",
              "      <th>mean</th>\n",
              "      <th>std</th>\n",
              "      <th>min</th>\n",
              "      <th>25%</th>\n",
              "      <th>50%</th>\n",
              "      <th>75%</th>\n",
              "      <th>max</th>\n",
              "    </tr>\n",
              "    <tr>\n",
              "      <th>employment_type</th>\n",
              "      <th></th>\n",
              "      <th></th>\n",
              "      <th></th>\n",
              "      <th></th>\n",
              "      <th></th>\n",
              "      <th></th>\n",
              "      <th></th>\n",
              "      <th></th>\n",
              "    </tr>\n",
              "  </thead>\n",
              "  <tbody>\n",
              "    <tr>\n",
              "      <th>CT</th>\n",
              "      <td>5.0</td>\n",
              "      <td>184575.00</td>\n",
              "      <td>156250.89</td>\n",
              "      <td>31875.0</td>\n",
              "      <td>100000.00</td>\n",
              "      <td>105000.0</td>\n",
              "      <td>270000.0</td>\n",
              "      <td>416000.0</td>\n",
              "    </tr>\n",
              "    <tr>\n",
              "      <th>FL</th>\n",
              "      <td>4.0</td>\n",
              "      <td>48000.00</td>\n",
              "      <td>40529.82</td>\n",
              "      <td>12000.0</td>\n",
              "      <td>18000.00</td>\n",
              "      <td>40000.0</td>\n",
              "      <td>70000.0</td>\n",
              "      <td>100000.0</td>\n",
              "    </tr>\n",
              "    <tr>\n",
              "      <th>FT</th>\n",
              "      <td>588.0</td>\n",
              "      <td>113468.07</td>\n",
              "      <td>69476.47</td>\n",
              "      <td>2859.0</td>\n",
              "      <td>64962.25</td>\n",
              "      <td>104196.5</td>\n",
              "      <td>150000.0</td>\n",
              "      <td>600000.0</td>\n",
              "    </tr>\n",
              "    <tr>\n",
              "      <th>PT</th>\n",
              "      <td>10.0</td>\n",
              "      <td>33070.50</td>\n",
              "      <td>31472.91</td>\n",
              "      <td>5409.0</td>\n",
              "      <td>12000.00</td>\n",
              "      <td>18817.5</td>\n",
              "      <td>48370.0</td>\n",
              "      <td>100000.0</td>\n",
              "    </tr>\n",
              "  </tbody>\n",
              "</table>\n",
              "</div>"
            ],
            "text/plain": [
              "                 count       mean        std      min        25%       50%  \\\n",
              "employment_type                                                              \n",
              "CT                 5.0  184575.00  156250.89  31875.0  100000.00  105000.0   \n",
              "FL                 4.0   48000.00   40529.82  12000.0   18000.00   40000.0   \n",
              "FT               588.0  113468.07   69476.47   2859.0   64962.25  104196.5   \n",
              "PT                10.0   33070.50   31472.91   5409.0   12000.00   18817.5   \n",
              "\n",
              "                      75%       max  \n",
              "employment_type                      \n",
              "CT               270000.0  416000.0  \n",
              "FL                70000.0  100000.0  \n",
              "FT               150000.0  600000.0  \n",
              "PT                48370.0  100000.0  "
            ]
          },
          "execution_count": 36,
          "metadata": {},
          "output_type": "execute_result"
        }
      ],
      "source": [
        "data_agg = data.groupby('employment_type')['salary_in_usd'].describe().round(2)\n",
        "print('Распределение зарплат по типу трудоустройства')\n",
        "data_agg"
      ]
    },
    {
      "cell_type": "markdown",
      "metadata": {},
      "source": [
        "Распределения зарплат различны для разных опытов работ неоднозначно - для CT — контракт и FT — полный рабочий день близки. Чтобы определить, являются ли эти различия статистически значимыми, проведём статистические тесты."
      ]
    },
    {
      "cell_type": "markdown",
      "metadata": {},
      "source": [
        "**Сформулируем нулевую и альтернативные гипотезы**\n",
        "\n",
        "*Нулевая гипотеза*: размер зарплат не отличается от типа трудоустройства: PT — неполный рабочий день ($μ_1$), FT — полный рабочий день ($μ_2$), CT — контракт ($μ_3$), FL — фриланс ($μ_4$).\n",
        "\n",
        "$$ H_0 : μ_1 = μ_2 = μ_3 = μ_4$$\n",
        "\n",
        "*Альтернативная гипотеза*: размер зарплат отличается от типа трудоустройства: PT — неполный рабочий день ($μ_1$), FT — полный рабочий день ($μ_2$), CT — контракт ($μ_3$), FL — фриланс ($μ_4$).\n",
        "\n",
        "$$ H_1 : μ_1 \\neq μ_2 \\neq μ_3 \\neq μ_4$$"
      ]
    },
    {
      "cell_type": "markdown",
      "metadata": {},
      "source": [
        "**Проверка на нормальность**\n",
        "\n",
        "С помощью теста Шапиро-Уилка проверим, распределён ли признак нормально."
      ]
    },
    {
      "cell_type": "code",
      "execution_count": 37,
      "metadata": {},
      "outputs": [
        {
          "name": "stdout",
          "output_type": "stream",
          "text": [
            "ЗП для Entry-level/Junior:\n",
            "p-value = 0.023\n",
            "p-значение меньше, чем заданный уровень значимости 0.05. Распределение отлично от нормального\n",
            "ЗП для Mid-level/Intermediate:\n",
            "p-value = 0.000\n",
            "p-значение меньше, чем заданный уровень значимости 0.05. Распределение отлично от нормального\n",
            "ЗП для Senior-level/Expert:\n",
            "p-value = 0.406\n",
            "p-значение больше, чем заданный уровень значимости 0.05. Распределение является нормальным\n",
            "ЗП Executive-level/Director:\n",
            "p-value = 0.507\n",
            "p-значение больше, чем заданный уровень значимости 0.05. Распределение является нормальным\n"
          ]
        }
      ],
      "source": [
        "# значения зарплат\n",
        "pt_salary = data.loc[data['employment_type']=='PT', 'salary_in_usd']\n",
        "ft_salary = data.loc[data['employment_type']=='FT', 'salary_in_usd']\n",
        "ct_salary = data.loc[data['employment_type']=='CT', 'salary_in_usd']\n",
        "fl_salary = data.loc[data['employment_type']=='FL', 'salary_in_usd']\n",
        "\n",
        "# проводим тест Шапиро-Уилка\n",
        "print('ЗП для Entry-level/Junior:')\n",
        "result = stats.shapiro(pt_salary)\n",
        "decision_normality(result[1])\n",
        "\n",
        "print('ЗП для Mid-level/Intermediate:')\n",
        "result = stats.shapiro(ft_salary)\n",
        "decision_normality(result[1])\n",
        "\n",
        "print('ЗП для Senior-level/Expert:')\n",
        "result = stats.shapiro(ct_salary)\n",
        "decision_normality(result[1])\n",
        "\n",
        "print('ЗП Executive-level/Director:')\n",
        "result = stats.shapiro(fl_salary)\n",
        "decision_normality(result[1])"
      ]
    },
    {
      "cell_type": "markdown",
      "metadata": {},
      "source": [
        "**Выберем подходящий статистический тест**\n",
        "\n",
        "Для выбора нужного теста воспользуемся алгоритмом выбора теста. Для этого ответим на следующие вопросы:\n",
        "* Какой тип у признака «salary_in_usd»? — Количественный.\n",
        "* Сколько сравниваемых групп? — Четыре.\n",
        "* Группы зависимы? — Нет.\n",
        "* Признак распределён по нормальному закону? — Нет (только два)\n",
        "\n",
        "Для проверки нашей гипотезы можно использовать критерий Краскела — Уоллиса.\n",
        "\n",
        "**Проведём тест**"
      ]
    },
    {
      "cell_type": "code",
      "execution_count": 38,
      "metadata": {},
      "outputs": [
        {
          "name": "stdout",
          "output_type": "stream",
          "text": [
            "p-value = 0.000\n",
            "p-значение меньше, чем заданный уровень значимости 0.05. Отвергаем нулевую гипотезу в пользу альтернативной.\n"
          ]
        }
      ],
      "source": [
        "# проводим тест\n",
        "_, p = stats.kruskal(pt_salary, ft_salary, ct_salary, fl_salary)\n",
        "decision_hypothesis(p)"
      ]
    },
    {
      "cell_type": "markdown",
      "metadata": {},
      "source": [
        "**Вывод**\n",
        "\n",
        "У нас есть основания утверждать, что размер зарплат зависит от типа трудоустройства."
      ]
    },
    {
      "cell_type": "markdown",
      "metadata": {},
      "source": [
        "## Итоговые результаты исследования\n",
        "\n",
        "*   Мы можем утверждать что наблюдается изменения зарплат в у специалистов Data Scientist за период 2020-2022. Медианные зарплаты растут.\n",
        "*   У нас нет оснований утверждать что размер зарплат Data Scientist статистически выше размера зарплат Data Engineer\n",
        "*   У нас есть основания утверждать, что размер зарплат зависит от размеров компаний. Наименьшая медианная ЗП у малых компаний\n",
        "*   Существует взаимосвязь между наличием должностей Data Scientist и Data Engineer и размером компании.\n",
        "*   У нас есть основания утверждать, что размер зарплат зависит от опыта работы.\n",
        "*   У нас есть основания утверждать, что размер зарплат зависит от типа трудоустройства."
      ]
    }
  ],
  "metadata": {
    "colab": {
      "provenance": []
    },
    "kernelspec": {
      "display_name": "Python 3.10.8 ('base')",
      "language": "python",
      "name": "python3"
    },
    "language_info": {
      "codemirror_mode": {
        "name": "ipython",
        "version": 3
      },
      "file_extension": ".py",
      "mimetype": "text/x-python",
      "name": "python",
      "nbconvert_exporter": "python",
      "pygments_lexer": "ipython3",
      "version": "3.9.10"
    },
    "vscode": {
      "interpreter": {
        "hash": "86c56a74836ad344b00594bf6f38fa6a676a207ceefe20d101fbc465800ccb8d"
      }
    }
  },
  "nbformat": 4,
  "nbformat_minor": 0
}
